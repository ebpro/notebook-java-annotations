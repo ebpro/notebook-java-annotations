{
 "cells": [
  {
   "cell_type": "markdown",
   "id": "4139179b-9bef-4898-bcf4-de7b71ea8b49",
   "metadata": {},
   "source": [
    "---\n",
    "  title: \"Processeurs d'annotations en Java\"\n",
    "  description: \"Définition d'un processor pour les traitement efficaces des annotations personnalisées en Java.\"\n",
    "  categories: \n",
    "    - Java\n",
    "    - I311\n",
    "    - Lecture\n",
    "    - Annotations  \n",
    "---"
   ]
  },
  {
   "cell_type": "code",
   "execution_count": 1,
   "id": "7b320ac9-0537-42ba-b039-afc7ef278279",
   "metadata": {
    "vscode": {
     "languageId": "java"
    }
   },
   "outputs": [
    {
     "name": "stdout",
     "output_type": "stream",
     "text": [
      "OpenJDK 64-Bit Server VM Temurin-21.0.2+13 (build 21.0.2+13-LTS, mixed mode, sharing)\n"
     ]
    },
    {
     "name": "stdout",
     "output_type": "stream",
     "text": [
      "Apache Maven 3.9.6 (bc0240f3c744dd6b6ec2920b3cd08dcc295161ae)\n"
     ]
    }
   ],
   "source": [
    "%%shell\n",
    "java --version|tail -1\n",
    "mvn --version|head -1"
   ]
  },
  {
   "cell_type": "markdown",
   "id": "3b2497c3-3910-4560-95a6-033b044c6348",
   "metadata": {},
   "source": [
    "https://github.com/ebpro/sample-annotationprocessor"
   ]
  },
  {
   "cell_type": "code",
   "execution_count": 2,
   "id": "ba711bd3-a3d7-4d66-a783-f3b1e1524097",
   "metadata": {
    "vscode": {
     "languageId": "java"
    }
   },
   "outputs": [],
   "source": []
  }
 ],
 "metadata": {
  "kernelspec": {
   "display_name": "Java [conda env:root] *",
   "language": "java",
   "name": "conda-root-java"
  },
  "language_info": {
   "codemirror_mode": "java",
   "file_extension": ".jshell",
   "mimetype": "text/x-java-source",
   "name": "Java",
   "pygments_lexer": "java",
   "version": "21.0.2+13-LTS"
  }
 },
 "nbformat": 4,
 "nbformat_minor": 5
}
