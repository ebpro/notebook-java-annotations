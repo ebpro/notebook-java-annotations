{
 "cells": [
  {
   "cell_type": "markdown",
   "id": "82907aef-d60f-4012-b5fe-d7cb2f79b8f4",
   "metadata": {},
   "source": [
    "---\n",
    "  title: \"Annotations en Java\"\n",
    "  description: \"Définition et traitement simple d'annotations personnalisées en Java.\"\n",
    "  categories: \n",
    "    - Java\n",
    "    - I311\n",
    "    - Lecture\n",
    "    - Annotations  \n",
    "---\n",
    "\n",
    "En java la annotations sont un moyen d'associer des meta-données  aux classes, méthodes, propriétés, paramètres, variables et ... aux annotations. \n",
    "\n",
    "Ces méta-données peuvent être utilisés lors d'une traitement du code source, lors de la compilation ou pendant l'exécution. Par exemple pour détecter ou ignorer des erreurs lors de la compilation, générer de la documentation, du code ou des fichiers. "
   ]
  },
  {
   "cell_type": "markdown",
   "id": "390e37ff-bd35-4956-a988-e4fcdac75267",
   "metadata": {},
   "source": [
    "## Annotations standards\n",
    "\n",
    "Il existe des annotations standards [Deprecated](https://docs.oracle.com/en/java/javase/17/docs/api/java.base/java/lang/Deprecated.html), [FunctionalInterface](https://docs.oracle.com/en/java/javase/17/docs/api/java.base/java/lang/FunctionalInterface.html), [Override](https://docs.oracle.com/en/java/javase/17/docs/api/java.base/java/lang/Override.html), [SuppressWarings](https://docs.oracle.com/en/java/javase/17/docs/api/java.base/java/lang/SuppressWarnings.html) et [SafeVarargs](https://docs.oracle.com/en/java/javase/17/docs/api/java.base/java/lang/SafeVarargs.html)."
   ]
  },
  {
   "cell_type": "markdown",
   "id": "19b3a73c-3fb3-499a-bd35-05a83c916473",
   "metadata": {},
   "source": [
    "## Définition d'une annotation\n",
    "\n",
    "Une annotation se déclare dans un fichier qui a le même nom comme une classe ou une interface."
   ]
  },
  {
   "cell_type": "code",
   "execution_count": 1,
   "id": "5e1c3631-2669-443e-80ee-1c2346f6b7ab",
   "metadata": {
    "vscode": {
     "languageId": "java"
    }
   },
   "outputs": [],
   "source": [
    "public @interface MyAnnotation { }"
   ]
  },
  {
   "cell_type": "markdown",
   "id": "bdb5b1ca-1eaa-45e0-9a8e-6510a01265de",
   "metadata": {},
   "source": [
    "---"
   ]
  },
  {
   "cell_type": "markdown",
   "id": "5c15ab64-0c59-44bb-96cf-552d1ba23dab",
   "metadata": {},
   "source": [
    "Elle peut alors être utilisée partout sur une classe."
   ]
  },
  {
   "cell_type": "code",
   "execution_count": 2,
   "id": "2d138eb5-2d9a-49ad-9013-47287e694acc",
   "metadata": {
    "vscode": {
     "languageId": "java"
    }
   },
   "outputs": [],
   "source": [
    "@MyAnnotation\n",
    "public class MyClass {\n",
    "    @MyAnnotation\n",
    "    private int x;\n",
    "    \n",
    "    @MyAnnotation\n",
    "    public void m(@MyAnnotation int y) {\n",
    "        @MyAnnotation\n",
    "        String m=\"test\";\n",
    "    }\n",
    "}"
   ]
  },
  {
   "cell_type": "markdown",
   "id": "b75b4fa0-9171-4ecc-83da-7790be7030eb",
   "metadata": {},
   "source": [
    "## Paramètres\n",
    "\n",
    "Si l'on y ajoute des méthodes leurs types de retour (primitifs, référence vers une instance de la class Class, annotation, enumération ou un tableau des précédents) et leurs noms définissent respectivement les paramètres de l'annotation. Il est aussi possible de donner des valeurs par défaut.  "
   ]
  },
  {
   "cell_type": "code",
   "execution_count": 3,
   "id": "178f4771-8fe5-4bfe-a2f7-c143ad3c0e9a",
   "metadata": {
    "vscode": {
     "languageId": "java"
    }
   },
   "outputs": [],
   "source": [
    "public @interface MyAnnotation {\n",
    "    public enum Digit {UN, DEUX};\n",
    "    \n",
    "    String message();\n",
    "    int size() default 10;\n",
    "    Digit digit();\n",
    "    Class[] classes();\n",
    "}"
   ]
  },
  {
   "cell_type": "markdown",
   "id": "45cb994f-8339-4959-aece-b9bfad7c69dc",
   "metadata": {},
   "source": [
    "---"
   ]
  },
  {
   "cell_type": "code",
   "execution_count": 4,
   "id": "d8442c50-b2c7-4eb8-bfe2-0842ca88990e",
   "metadata": {
    "vscode": {
     "languageId": "java"
    }
   },
   "outputs": [],
   "source": [
    "@MyAnnotation(message=\"hello\", digit=MyAnnotation.Digit.UN, classes={String.class, Arrays.class})\n",
    "public class MyClass {\n",
    "}"
   ]
  },
  {
   "cell_type": "markdown",
   "id": "99fd8445-0539-442b-b41d-52050ce15abd",
   "metadata": {},
   "source": [
    "## Value\n",
    "\n",
    "Si leur seul attribut obligatoire s'appelle `value`, il est possible d'omettre son nom lors de l'annotation."
   ]
  },
  {
   "cell_type": "code",
   "execution_count": 5,
   "id": "721f3ecf-ebcb-4368-8abe-8e1d942f2ab8",
   "metadata": {
    "vscode": {
     "languageId": "java"
    }
   },
   "outputs": [],
   "source": [
    "public @interface MyAnnotation {\n",
    "    String value();\n",
    "    int size() default 10;\n",
    "}"
   ]
  },
  {
   "cell_type": "code",
   "execution_count": 6,
   "id": "c6a60f48-152f-4001-a0f0-feae94f939c0",
   "metadata": {
    "vscode": {
     "languageId": "java"
    }
   },
   "outputs": [],
   "source": [
    "@MyAnnotation(\"hello\")\n",
    "public class MyClass { }"
   ]
  },
  {
   "cell_type": "markdown",
   "id": "8f0e0fcd-a635-48d8-9ea2-46fed7625bcf",
   "metadata": {},
   "source": [
    "## Portée\n",
    "\n",
    "Une déclaration d'annotation peut être annotée avec [Target](https://docs.oracle.com/en/java/javase/17/docs/api/java.base/java/lang/annotation/Target.html) pour contrôler ce qui peut être annoté :  ANNOTATION_TYPE, CONSTRUCTOR, FIELD, LOCAL_VARIABLE, METHOD, PACKAGE, MODULE, PARAMETER, TYPE, et TYPE_PARAMETER"
   ]
  },
  {
   "cell_type": "code",
   "execution_count": 7,
   "id": "b0957b27-e6ab-486a-b213-18622fa96c52",
   "metadata": {
    "vscode": {
     "languageId": "java"
    }
   },
   "outputs": [],
   "source": [
    "//| echo: false"
   ]
  },
  {
   "cell_type": "code",
   "execution_count": 8,
   "id": "10be27b7-b6a5-4db2-a4f9-5eb451a271f1",
   "metadata": {
    "vscode": {
     "languageId": "java"
    }
   },
   "outputs": [],
   "source": [
    "import java.lang.annotation.Target;\n",
    "import java.lang.annotation.ElementType;"
   ]
  },
  {
   "cell_type": "code",
   "execution_count": 9,
   "id": "22fec5db-a9e4-4e69-88ed-62bf04b7df80",
   "metadata": {
    "vscode": {
     "languageId": "java"
    }
   },
   "outputs": [],
   "source": [
    "@Target({ElementType.LOCAL_VARIABLE, ElementType.FIELD})\n",
    "public @interface MyAnnotation {\n",
    "    int value() default 0;\n",
    "}"
   ]
  },
  {
   "cell_type": "markdown",
   "id": "5a262706-7f57-4142-ab76-fa978563972f",
   "metadata": {},
   "source": [
    "---"
   ]
  },
  {
   "cell_type": "code",
   "execution_count": 10,
   "id": "8b902043-06f9-494b-b480-839791d2043e",
   "metadata": {
    "vscode": {
     "languageId": "java"
    }
   },
   "outputs": [],
   "source": [
    "public class MyClass {    \n",
    "    @MyAnnotation\n",
    "    int x;\n",
    "    public void m() {@MyAnnotation int x;}\n",
    "}"
   ]
  },
  {
   "cell_type": "code",
   "execution_count": 11,
   "id": "988aaf41-bd07-4a10-b1f4-e0d0116537d4",
   "metadata": {
    "vscode": {
     "languageId": "java"
    }
   },
   "outputs": [
    {
     "ename": "CompilationException",
     "evalue": "",
     "output_type": "error",
     "traceback": [
      "\u001b[1m\u001b[30m|   \u001b[1m\u001b[30m\u001b[0m\u001b[1m\u001b[30m\u001b[41m@MyAnnotation\u001b[0m\u001b[1m\u001b[30m\u001b[0m",
      "\u001b[1m\u001b[31mannotation interface not applicable to this kind of declaration\u001b[0m",
      ""
     ]
    }
   ],
   "source": [
    "@MyAnnotation\n",
    "public class MyClass {    \n",
    "    int x;\n",
    "}"
   ]
  },
  {
   "cell_type": "markdown",
   "id": "2e872008-30f0-4185-8383-75e2893e9054",
   "metadata": {},
   "source": [
    "## Annotations répétables 1/2\n",
    "\n",
    "Par défaut, une annotation ne peut pas être utilisée plusieurs fois sur un même élément.\n",
    "Il faut alors soit définir un wrapper (une annotations qui peut les contenir) :"
   ]
  },
  {
   "cell_type": "code",
   "execution_count": 12,
   "id": "6c0ad46c-8906-4ba6-b5a5-8cfcde6c8af3",
   "metadata": {
    "vscode": {
     "languageId": "java"
    }
   },
   "outputs": [],
   "source": [
    "@Target({ElementType.LOCAL_VARIABLE, ElementType.FIELD})\n",
    "public @interface MyAnnotations {\n",
    "    MyAnnotation[] value();\n",
    "}"
   ]
  },
  {
   "cell_type": "code",
   "execution_count": 13,
   "id": "2ea1813a-dba7-420b-8276-83803e05dc5f",
   "metadata": {
    "vscode": {
     "languageId": "java"
    }
   },
   "outputs": [],
   "source": [
    "public class MyClass {    \n",
    "    @MyAnnotations({@MyAnnotation(1),@MyAnnotation(2)})\n",
    "    int x;\n",
    "}"
   ]
  },
  {
   "cell_type": "markdown",
   "id": "96d1217a-abf9-40e6-9063-b1b36922f7bd",
   "metadata": {},
   "source": [
    "## Annotations répétables 2/2\n",
    "\n",
    "ou les autoriser à être répétable avec `@Repeatable` pour éviter la déclaration explicite du tableau d'annotations."
   ]
  },
  {
   "cell_type": "code",
   "execution_count": 14,
   "id": "16bbcbc4-96f0-4021-9054-fdd3d0a156fc",
   "metadata": {
    "vscode": {
     "languageId": "java"
    }
   },
   "outputs": [],
   "source": [
    "//| echo: false\n",
    "import java.lang.annotation.Repeatable;"
   ]
  },
  {
   "cell_type": "code",
   "execution_count": 15,
   "id": "9afd6903-198a-4137-b3ac-6350bbde92b3",
   "metadata": {
    "vscode": {
     "languageId": "java"
    }
   },
   "outputs": [],
   "source": [
    "@Repeatable(MyAnnotations.class)\n",
    "@Target({ElementType.LOCAL_VARIABLE, ElementType.FIELD})\n",
    "public @interface MyAnnotation {\n",
    "    int value() default 0;\n",
    "}"
   ]
  },
  {
   "cell_type": "code",
   "execution_count": 16,
   "id": "a2aabe7b-8682-4cd7-9284-d2820ff636d7",
   "metadata": {
    "vscode": {
     "languageId": "java"
    }
   },
   "outputs": [],
   "source": [
    "public class MyClass {    \n",
    "    @MyAnnotation(1)\n",
    "    @MyAnnotation(2)\n",
    "    int x;\n",
    "}"
   ]
  },
  {
   "cell_type": "markdown",
   "id": "57007312-f0a0-4e3b-884b-c2c0e81a0482",
   "metadata": {},
   "source": [
    "## Package\n",
    "\n",
    "Il est aussi possible d'annoter un package dans le fichier `package-info.java`."
   ]
  },
  {
   "cell_type": "markdown",
   "id": "6be0a7fb-fb01-4f10-a4d8-d1695577f3e1",
   "metadata": {},
   "source": [
    "## Durée de vie (Retention)\n",
    "\n",
    "L'annotation `@Retention` permet de préciser si l'annotation n'est accessible que pendant la compilation (SOURCE), si en plus elle est ajoutée au fichier .class (CLASS) ou si elle est accessible durant l'exécution (RUNTIME).\n",
    "\n",
    "L'annotation `@Inherited` permet d'indiquer que l'annotation d'un type est associée aussi à ses descendants et l'annotation `@Documented` qu'elle doit apparaitre dans la javadoc."
   ]
  },
  {
   "cell_type": "code",
   "execution_count": 17,
   "id": "433c54ac-75a9-4be2-8b2c-8ebce485e526",
   "metadata": {
    "vscode": {
     "languageId": "java"
    }
   },
   "outputs": [],
   "source": [
    "//| echo: false\n",
    "import java.lang.annotation.Documented;\n",
    "import java.lang.annotation.ElementType;\n",
    "import java.lang.annotation.Inherited;\n",
    "import java.lang.annotation.Retention;\n",
    "import java.lang.annotation.RetentionPolicy;\n",
    "import java.lang.annotation.Target;"
   ]
  },
  {
   "cell_type": "code",
   "execution_count": 18,
   "id": "549dcfd0-1bff-4575-8f1d-5a3b50920774",
   "metadata": {
    "vscode": {
     "languageId": "java"
    }
   },
   "outputs": [],
   "source": [
    "@Documented\n",
    "@Target(ElementType.METHOD)\n",
    "@Inherited\n",
    "@Retention(RetentionPolicy.RUNTIME)\n",
    "public @interface MyAnnotation {\n",
    "  public enum Status {IN_PROGRESS, DONE} \n",
    "  Status status() default MyAnnotation.Status.DONE;\n",
    "}"
   ]
  },
  {
   "cell_type": "markdown",
   "id": "023216e4-fdcc-4e60-b1d6-e63c301c183b",
   "metadata": {},
   "source": [
    "---"
   ]
  },
  {
   "cell_type": "code",
   "execution_count": 19,
   "id": "4ad1bbfa-8cdb-4e0b-aeed-0d234c2a2d39",
   "metadata": {
    "vscode": {
     "languageId": "java"
    }
   },
   "outputs": [],
   "source": [
    "public class MyClass {    \n",
    "    @MyAnnotation\n",
    "    public void m1() {System.out.println(\"Hello1\");}\n",
    "\n",
    "    @MyAnnotation(status=MyAnnotation.Status.IN_PROGRESS)\n",
    "    public void m2() {System.out.println(\"Hello2\");}\n",
    "    \n",
    "    @MyAnnotation(status=MyAnnotation.Status.DONE)\n",
    "    public void m3() {System.out.println(\"Hello3\");}\n",
    "\n",
    "    public void m4() {System.out.println(\"Hello4\");}\n",
    "}"
   ]
  },
  {
   "cell_type": "markdown",
   "id": "438cd916-d53a-40ed-b4dd-2f0a26c5499b",
   "metadata": {},
   "source": [
    "## Utilisation par instrospection (1/2)\n",
    "\n",
    "Les annotations peuvent être utilisées lors de l'exécution par introspection à condition d'avoir la rétention adaptée. \n",
    "\n",
    "Pour rappel, la class Class permet de représenter une classe et d'accéder à la représentation de ses constituants représentés chacun par une classe spécifique (Method, Field, Constructor, ...). Ensuite des actions peuvent être déclenchées de façon programmatique par exemple invoquer une méthode sur une instance, invoquer un constructeur, ...\n",
    "\n",
    "L'exemple ci-dessus affiche les méthodes de la classe précédente annotées avec `@MyAnnotation`."
   ]
  },
  {
   "cell_type": "markdown",
   "id": "6c531d05-dd74-4e92-9814-b62038aa1018",
   "metadata": {},
   "source": [
    "---"
   ]
  },
  {
   "cell_type": "code",
   "execution_count": 20,
   "id": "4ee3c646-7585-4cd1-98f4-f0b51875117b",
   "metadata": {
    "vscode": {
     "languageId": "java"
    }
   },
   "outputs": [],
   "source": [
    "//| echo: false\n",
    "import java.lang.reflect.Method;"
   ]
  },
  {
   "cell_type": "code",
   "execution_count": 21,
   "id": "5b38e71e-04fb-4737-a671-69d34a8a3429",
   "metadata": {
    "vscode": {
     "languageId": "java"
    }
   },
   "outputs": [
    {
     "name": "stdout",
     "output_type": "stream",
     "text": [
      "La méthode m2 a comme statut IN_PROGRESS.\n"
     ]
    },
    {
     "name": "stdout",
     "output_type": "stream",
     "text": [
      "La méthode m1 a comme statut DONE.\n"
     ]
    },
    {
     "name": "stdout",
     "output_type": "stream",
     "text": [
      "La méthode m3 a comme statut DONE.\n"
     ]
    }
   ],
   "source": [
    "MyClass myObject = new MyClass();\n",
    "Arrays.stream(myObject.getClass().getDeclaredMethods())\n",
    "    .filter(m->m.getAnnotation(MyAnnotation.class)!=null)\n",
    "    .map(m->\"La méthode %s a comme statut %s.\".formatted(m.getName(),m.getAnnotation(MyAnnotation.class).status()))\n",
    "    .forEach(System.out::println);"
   ]
  },
  {
   "cell_type": "markdown",
   "id": "1d481845-ae0f-4416-81cd-f2dc6047b2d1",
   "metadata": {},
   "source": [
    "## Utilisation par instrospection (2/2)\n",
    "\n",
    "Il est aussi possible d'invoquer dynamiquement ces méthodes."
   ]
  },
  {
   "cell_type": "code",
   "execution_count": 22,
   "id": "bac10f6b-28ba-4009-87cc-2d0aa08835c8",
   "metadata": {
    "vscode": {
     "languageId": "java"
    }
   },
   "outputs": [],
   "source": [
    "//| echo: false\n",
    "import java.lang.reflect.Method;"
   ]
  },
  {
   "cell_type": "markdown",
   "id": "c901ef77-00a7-4335-b31f-d40856d45424",
   "metadata": {},
   "source": [
    "---"
   ]
  },
  {
   "cell_type": "code",
   "execution_count": 23,
   "id": "2f8b0af7-0e1f-409c-b6a4-cbdd0c5541d6",
   "metadata": {
    "vscode": {
     "languageId": "java"
    }
   },
   "outputs": [
    {
     "name": "stdout",
     "output_type": "stream",
     "text": [
      "Hello1\n"
     ]
    },
    {
     "name": "stdout",
     "output_type": "stream",
     "text": [
      "Hello3\n"
     ]
    }
   ],
   "source": [
    "MyClass myObject = new MyClass();\n",
    "Arrays.stream(myObject.getClass().getDeclaredMethods())\n",
    "    .filter(m->m.getAnnotation(MyAnnotation.class)!=null &&\n",
    "               m.getAnnotation(MyAnnotation.class).status().equals(MyAnnotation.Status.DONE))\n",
    "    .forEach(m->{\n",
    "        try {m.invoke(myObject);} \n",
    "        catch (Exception e) {}\n",
    "        });"
   ]
  },
  {
   "cell_type": "code",
   "execution_count": 24,
   "id": "acb16078-5798-4417-9e49-bc9b246fc193",
   "metadata": {
    "vscode": {
     "languageId": "java"
    }
   },
   "outputs": [],
   "source": []
  }
 ],
 "metadata": {
  "kernelspec": {
   "display_name": "Java [conda env:root] *",
   "language": "java",
   "name": "conda-root-java"
  },
  "language_info": {
   "codemirror_mode": "java",
   "file_extension": ".jshell",
   "mimetype": "text/x-java-source",
   "name": "Java",
   "pygments_lexer": "java",
   "version": "21.0.2+13-LTS"
  }
 },
 "nbformat": 4,
 "nbformat_minor": 5
}
